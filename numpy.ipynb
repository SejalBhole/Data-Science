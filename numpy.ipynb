{
 "cells": [
  {
   "cell_type": "code",
   "execution_count": null,
   "id": "2eaa162b-7ea5-48a4-a2e5-26e8d604d3c0",
   "metadata": {},
   "outputs": [],
   "source": [
    "import numpy as np\n",
    "\n",
    "n1 = np.array([10,20,30,40])       #creating array using numerical python library\n",
    "n1"
   ]
  },
  {
   "cell_type": "code",
   "execution_count": null,
   "id": "16d2f097-f7d7-48ba-9eec-1105cc29af7b",
   "metadata": {},
   "outputs": [],
   "source": [
    "type(n1)"
   ]
  },
  {
   "cell_type": "code",
   "execution_count": null,
   "id": "13be0d69-6714-4ea7-9d23-099ae56473ec",
   "metadata": {},
   "outputs": [],
   "source": [
    "#initializing numpy arrays as zero\n",
    "#zeros(no.of rows , no.of cols)\n",
    "n1 = np.zeros((2,2))  \n",
    "n1"
   ]
  },
  {
   "cell_type": "code",
   "execution_count": null,
   "id": "0291405b-5c68-4751-9bc3-fe7efbf9beed",
   "metadata": {},
   "outputs": [],
   "source": [
    "#initializing nparray using same number\n",
    "n1 = np.full((2,3),10)\n",
    "n1"
   ]
  },
  {
   "cell_type": "code",
   "execution_count": null,
   "id": "7d23b39b-c075-4dfa-b067-f39a69e34f9d",
   "metadata": {},
   "outputs": [],
   "source": [
    "#initializing numpy array within a range\n",
    "n2 = np.arange(10,20)       #20 is exclusive\n",
    "n2"
   ]
  },
  {
   "cell_type": "code",
   "execution_count": null,
   "id": "e140bf7e-7830-445a-8fb0-8f93e7715750",
   "metadata": {},
   "outputs": [],
   "source": [
    "# with skip paramter\n",
    "n2 = np.arange(10,40,5)\n",
    "n2"
   ]
  },
  {
   "cell_type": "code",
   "execution_count": null,
   "id": "e65390ef-388a-4297-aa1a-6f7f079cac91",
   "metadata": {},
   "outputs": [],
   "source": [
    "#initializing nparray with random numbers\n",
    "#from 1 to 100 range i want 5 random integers\n",
    "n1 = np.random.randint(1,100,5)\n",
    "n1"
   ]
  },
  {
   "cell_type": "code",
   "execution_count": null,
   "id": "876abe5d-ecc3-4ade-ba75-a7cd87a23929",
   "metadata": {},
   "outputs": [],
   "source": [
    "#checking the shape of array\n",
    "n1 = np.array([[10,20,30,40],[50,60,70,80]])\n",
    "#telling 2 rows and 4 cols\n",
    "n1.shape"
   ]
  },
  {
   "cell_type": "code",
   "execution_count": null,
   "id": "aa737303-67dd-40e8-909e-c59f48958e73",
   "metadata": {},
   "outputs": [],
   "source": [
    "n1.shape = (4,2)\n",
    "n1"
   ]
  },
  {
   "cell_type": "code",
   "execution_count": null,
   "id": "2b21cf17-cc04-4fda-9a02-6ef984783c03",
   "metadata": {},
   "outputs": [],
   "source": [
    "#joining two nparrays\n",
    "#1. vstack() - vertical stack \n",
    "n1 = np.array([10,20,3,4])\n",
    "n2 = np.array([2,5,9,4])\n",
    "np.vstack((n1,n2))"
   ]
  },
  {
   "cell_type": "code",
   "execution_count": null,
   "id": "d3dd720c-134e-4944-a608-da88b986ef9c",
   "metadata": {},
   "outputs": [],
   "source": [
    "#2.hstack()  \n",
    "#3.column_stack()"
   ]
  },
  {
   "cell_type": "code",
   "execution_count": null,
   "id": "bd573781-aadd-4805-826a-08dc850ff218",
   "metadata": {},
   "outputs": [],
   "source": [
    "n1 = np.array([10,20,3,4])\n",
    "n2 = np.array([2,5,9,4])\n",
    "np.intersect1d(n1,n2)"
   ]
  },
  {
   "cell_type": "code",
   "execution_count": null,
   "id": "c480737a-efdb-419c-8356-dd5c2f15c5a0",
   "metadata": {},
   "outputs": [],
   "source": [
    "n1 = np.array([10,20,3,4])\n",
    "n2 = np.array([2,5,9,4])\n",
    "np.setdiff1d(n1,n2)    #removes common and gives unique from n1 (n1-n2)"
   ]
  },
  {
   "cell_type": "code",
   "execution_count": null,
   "id": "9dde578c-e591-4f80-b89d-59c92fd41ec7",
   "metadata": {},
   "outputs": [],
   "source": [
    "n1 = np.array([10,20,3,4])\n",
    "n2 = np.array([2,5,9,4])\n",
    "np.setdiff1d(n2,n1)     #changing sequence"
   ]
  },
  {
   "cell_type": "code",
   "execution_count": null,
   "id": "68ba3a3a-97fd-4cb2-b799-fd2a5351c14a",
   "metadata": {},
   "outputs": [],
   "source": [
    "#addition of numpy arrays\n",
    "n1 = np.array([10,20,3,4])\n",
    "n2 = np.array([2,5,9,4])\n",
    "np.sum([n1,n2])"
   ]
  },
  {
   "cell_type": "code",
   "execution_count": null,
   "id": "7c0b0058-0a3b-4c1d-b0ef-00ced9bd102a",
   "metadata": {},
   "outputs": [],
   "source": [
    "#addition of numpy arrays only column elements using axis = 0\n",
    "n1 = np.array([10,20,3,4])\n",
    "n2 = np.array([2,5,9,4])\n",
    "np.sum([n1,n2],axis=0)"
   ]
  },
  {
   "cell_type": "code",
   "execution_count": null,
   "id": "c3005498-4175-4f2c-a7a4-2a13d5d1e131",
   "metadata": {},
   "outputs": [],
   "source": [
    "#addition of numpy arrays only row elements using axis = 1\n",
    "n1 = np.array([10,20,3,4])\n",
    "n2 = np.array([2,5,9,4])\n",
    "np.sum([n1,n2],axis=1)"
   ]
  },
  {
   "cell_type": "code",
   "execution_count": null,
   "id": "99d7e8b6-d9ee-4cf4-b934-e36e926cb8e6",
   "metadata": {},
   "outputs": [],
   "source": [
    "#aritematic operations\n",
    "#adding 1 no. to each element\n",
    "n1 = np.array([10,20,3,4])\n",
    "n1=n1+1\n",
    "n1"
   ]
  },
  {
   "cell_type": "code",
   "execution_count": null,
   "id": "427683bf-27fa-4dd9-8895-bbbffa6295df",
   "metadata": {},
   "outputs": [],
   "source": [
    "#numpy MATH functions\n",
    "n1 = np.array([10,20,30,40])\n",
    "np.mean(n1)"
   ]
  },
  {
   "cell_type": "code",
   "execution_count": null,
   "id": "8430298d-fb05-4c99-b3aa-cf5a2b57e6d8",
   "metadata": {},
   "outputs": [],
   "source": [
    "n1 = np.array([10,20,30,40])\n",
    "np.std(n1)"
   ]
  },
  {
   "cell_type": "code",
   "execution_count": null,
   "id": "923d9393-880a-4bfc-80c7-4f8d58e43596",
   "metadata": {},
   "outputs": [],
   "source": [
    "n1 = np.array([10,20,30,40])\n",
    "np.median(n1)"
   ]
  },
  {
   "cell_type": "code",
   "execution_count": null,
   "id": "204399cd-309d-4ebc-b662-4aadf0459b13",
   "metadata": {},
   "outputs": [],
   "source": []
  }
 ],
 "metadata": {
  "kernelspec": {
   "display_name": "Python 3 (ipykernel)",
   "language": "python",
   "name": "python3"
  },
  "language_info": {
   "codemirror_mode": {
    "name": "ipython",
    "version": 3
   },
   "file_extension": ".py",
   "mimetype": "text/x-python",
   "name": "python",
   "nbconvert_exporter": "python",
   "pygments_lexer": "ipython3",
   "version": "3.10.5"
  }
 },
 "nbformat": 4,
 "nbformat_minor": 5
}
