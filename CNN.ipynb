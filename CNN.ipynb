{
 "cells": [
  {
   "cell_type": "code",
   "execution_count": null,
   "id": "1865a1c4-9e25-4a89-b1fa-1d421ca4a0e1",
   "metadata": {},
   "outputs": [],
   "source": [
    "print(\"Working of CNN\")"
   ]
  },
  {
   "cell_type": "code",
   "execution_count": null,
   "id": "941b1d8f-8ac7-4d0f-b106-97b5a77ca886",
   "metadata": {},
   "outputs": [],
   "source": [
    "import random\n",
    "random.seed(0)      #Start shuffling from this specific point, so I always get the same result.\n",
    "\n",
    "import numpy as np\n",
    "np.random.seed(0)\n",
    "\n",
    "import tensorflow as tf\n",
    "tf.random.set_seed(0)\n"
   ]
  },
  {
   "cell_type": "code",
   "execution_count": null,
   "id": "8b8929e5-a051-49a4-b8dc-88e64cce2668",
   "metadata": {},
   "outputs": [],
   "source": [
    "#Keras is a high-level deep learning library in Python that makes it easy to build, train, and test neural networks, and it runs on top of backends like TensorFlow.\n",
    "\n",
    "\n",
    "from tensorflow.keras import datasets, layers, models      #To load built-in datasets, To build layers of your model (Dense, Conv2D, MaxPooling2D), To define your model architecture (Sequential or Functional API)\n",
    "\n",
    "import matplotlib.pyplot as plt                            # used for plotting graphs (like accuracy/loss curves) or visualizing images from the dataset"
   ]
  },
  {
   "cell_type": "code",
   "execution_count": null,
   "id": "e6c9c7b0-030b-4f24-943e-14a541278aaf",
   "metadata": {},
   "outputs": [],
   "source": [
    "#Data Curation\n",
    "\n",
    "#load and prepare the Fashion MNIST Dataset\n",
    "fashion_mnist = datasets.fashion_mnist\n",
    "(train_images, train_labels), (test_images, test_labels) = fashion_mnist.load_data()    #returns two tuples, images are nothing but a numpy array"
   ]
  },
  {
   "cell_type": "code",
   "execution_count": null,
   "id": "07231638-a3f9-4957-9185-171dd7cdf446",
   "metadata": {},
   "outputs": [],
   "source": [
    "type(train_images)"
   ]
  },
  {
   "cell_type": "code",
   "execution_count": null,
   "id": "340ddff9-1fcc-483c-9545-7e85269f3dc3",
   "metadata": {},
   "outputs": [],
   "source": [
    "type(train_labels)"
   ]
  },
  {
   "cell_type": "code",
   "execution_count": null,
   "id": "3366b061-e0a4-458a-95ab-3bef13160696",
   "metadata": {},
   "outputs": [],
   "source": [
    "print(len(train_labels))"
   ]
  },
  {
   "cell_type": "code",
   "execution_count": null,
   "id": "3ee77f89-75c4-4dae-a5b6-d469d5dee924",
   "metadata": {},
   "outputs": [],
   "source": [
    "print(len(train_images))"
   ]
  },
  {
   "cell_type": "code",
   "execution_count": null,
   "id": "ca1297d4-df33-4c5c-bbb9-24c900a92c34",
   "metadata": {},
   "outputs": [],
   "source": [
    "print(train_images[0].shape)    #height and width of image having 28px - grryscale image"
   ]
  },
  {
   "cell_type": "code",
   "execution_count": null,
   "id": "90268fe2-ca16-4dcf-bc29-8e7dd0353105",
   "metadata": {},
   "outputs": [],
   "source": [
    "print(train_images[0])"
   ]
  },
  {
   "cell_type": "code",
   "execution_count": null,
   "id": "d67ca053-26c2-40e5-9a7c-27607bbb806f",
   "metadata": {},
   "outputs": [],
   "source": [
    "#display an image from the dataset\n",
    "plt.imshow(train_images[0], cmap='gray')   #This function displays an image on the screen (from the Matplotlib library).\n",
    "plt.show()"
   ]
  },
  {
   "cell_type": "code",
   "execution_count": null,
   "id": "5994c36b-41f2-48fa-8d45-cfb1032c7139",
   "metadata": {},
   "outputs": [],
   "source": [
    "print(train_labels[0])\n",
    "\n",
    "#dataset contains 10 different classes and following are the classes in order :\n",
    "#class_names = [T-shirt, trouser, pullover, dress, coat, sandal, shirt, sneaker, bag, ankle boot]\n",
    "#boot is at 9 so it will return  9"
   ]
  },
  {
   "cell_type": "code",
   "execution_count": null,
   "id": "f8cb561a-fbc3-48f8-85be-03ed83da96b2",
   "metadata": {},
   "outputs": [],
   "source": [
    "#normalizing the values between 0 and 1\n",
    "train_images, test_images = train_images/255.0 , test_images/255.0   #if we skip this step model will stop at local optimum"
   ]
  },
  {
   "cell_type": "code",
   "execution_count": null,
   "id": "7276b47f-3d27-44ca-95b5-186aecaf56e0",
   "metadata": {},
   "outputs": [],
   "source": [
    "print(train_images[0])"
   ]
  },
  {
   "cell_type": "code",
   "execution_count": null,
   "id": "e1d0364b-3659-472c-89b2-440ba9e42e74",
   "metadata": {},
   "outputs": [],
   "source": [
    "#reshaping images to specify that its a single channel (grayscale)\n",
    "#becoz keras and tensorflow requires our data to be four dimensional \n",
    "\n",
    "train_images = train_images.reshape((train_images.shape[0],28,28,1))  #no.of images present in dataset,height,width,channel - grey or rgb(3)\n",
    "test_images = test_images.reshape((test_images.shape[0],28,28,1)) "
   ]
  },
  {
   "cell_type": "code",
   "execution_count": null,
   "id": "aa365b2b-ab94-487b-9b57-6479a66b11b0",
   "metadata": {},
   "outputs": [],
   "source": [
    "train_images.shape"
   ]
  },
  {
   "cell_type": "code",
   "execution_count": null,
   "id": "3a562b9b-58a1-491d-b07b-7d0c2cd3d566",
   "metadata": {},
   "outputs": [],
   "source": [
    "test_images.shape"
   ]
  },
  {
   "cell_type": "code",
   "execution_count": null,
   "id": "6e7a3515-8d1d-4217-b492-dc12759f6291",
   "metadata": {},
   "outputs": [],
   "source": []
  }
 ],
 "metadata": {
  "kernelspec": {
   "display_name": "Python 3 (ipykernel)",
   "language": "python",
   "name": "python3"
  },
  "language_info": {
   "codemirror_mode": {
    "name": "ipython",
    "version": 3
   },
   "file_extension": ".py",
   "mimetype": "text/x-python",
   "name": "python",
   "nbconvert_exporter": "python",
   "pygments_lexer": "ipython3",
   "version": "3.10.5"
  }
 },
 "nbformat": 4,
 "nbformat_minor": 5
}
